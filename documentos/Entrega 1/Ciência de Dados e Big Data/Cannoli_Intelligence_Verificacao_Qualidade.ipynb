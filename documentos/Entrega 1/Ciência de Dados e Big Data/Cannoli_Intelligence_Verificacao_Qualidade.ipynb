{
  "cells": [
    {
      "cell_type": "markdown",
      "metadata": {
        "id": "gWPBO9oqhTrD"
      },
      "source": [
        "# Verificação da Qualidade dos Dados — Cannoli Intelligence\n"
      ],
      "id": "gWPBO9oqhTrD"
    },
    {
      "cell_type": "markdown",
      "metadata": {
        "id": "h3xRbfaohTrE"
      },
      "source": [
        "### Leitura dos CSVs"
      ],
      "id": "h3xRbfaohTrE"
    },
    {
      "cell_type": "code",
      "metadata": {
        "id": "9ECK_-14hTrE"
      },
      "execution_count": null,
      "outputs": [],
      "source": [
        "import pandas as pd\n",
        "import numpy as np"
      ],
      "id": "9ECK_-14hTrE"
    },
    {
      "cell_type": "code",
      "source": [
        "order = pd.read_csv('Order.csv', sep=';')\n",
        "campaign = pd.read_csv('Campaign.csv', sep=';')\n",
        "campaign_queue = pd.read_csv('CampaignQueue.csv', sep=';')\n",
        "customer = pd.read_csv('Customer.csv', sep=';')\n",
        "\n",
        "print('Bases carregadas!')"
      ],
      "metadata": {
        "colab": {
          "base_uri": "https://localhost:8080/"
        },
        "id": "HTPEMiMehZCs",
        "outputId": "1c3a3bdc-0067-4a70-ca3c-3e88f665722f"
      },
      "id": "HTPEMiMehZCs",
      "execution_count": null,
      "outputs": [
        {
          "output_type": "stream",
          "name": "stdout",
          "text": [
            "Bases carregadas!\n"
          ]
        }
      ]
    },
    {
      "cell_type": "markdown",
      "metadata": {
        "id": "_0R1krz5hTrE"
      },
      "source": [
        "### Nulos (contagem e % em cada base)"
      ],
      "id": "_0R1krz5hTrE"
    },
    {
      "cell_type": "code",
      "metadata": {
        "colab": {
          "base_uri": "https://localhost:8080/"
        },
        "id": "4Sv5Rp8phTrF",
        "outputId": "8009830c-abd3-4642-9d8a-218437a4e8b4"
      },
      "execution_count": null,
      "outputs": [
        {
          "output_type": "stream",
          "name": "stdout",
          "text": [
            "NULOS (contagem)\n",
            "Order:\n",
            " id                         0\n",
            "companyId                  0\n",
            "containerId                0\n",
            "createdAt                  0\n",
            "customer                   0\n",
            "displayId                  0\n",
            "engineId                   0\n",
            "engineName                 0\n",
            "engineType                 0\n",
            "extraInfo               1181\n",
            "integrated                 0\n",
            "integrationId              0\n",
            "isTest                     0\n",
            "orderTiming                0\n",
            "orderType                  0\n",
            "salesChannel               0\n",
            "scheduledAt              968\n",
            "status                     0\n",
            "preparationTime            0\n",
            "takeOutTimeInSeconds       0\n",
            "totalAmount                0\n",
            "updatedAt                  0\n",
            "version                    0\n",
            "_createdAt                 0\n",
            "dtype: int64\n",
            "\n",
            "Campaign:\n",
            " id                0\n",
            "segmentId         0\n",
            "templateId        0\n",
            "storeId           0\n",
            "name              0\n",
            "description     405\n",
            "badge           319\n",
            "type              0\n",
            "status            0\n",
            "isDefault         0\n",
            "createdAt         0\n",
            "createdBy         0\n",
            "updatedAt         0\n",
            "updatedBy         0\n",
            "_createdAt     1224\n",
            "dtype: int64\n",
            "\n",
            "CampaignQueue:\n",
            " id                    0\n",
            "jobId                 0\n",
            "campaignId            0\n",
            "storeId               0\n",
            "storeInstanceId       0\n",
            "customerId            0\n",
            " phoneNumber          0\n",
            "scheduledAt           0\n",
            "sendAt             1712\n",
            "status                0\n",
            "message               0\n",
            "response           3412\n",
            "createdAt             0\n",
            "createdBy             0\n",
            "updatedAt             0\n",
            "updatedBy             0\n",
            "_scheduledAt          0\n",
            "dtype: int64\n",
            "\n",
            "Customer:\n",
            " id                0\n",
            "name              0\n",
            "taxId             0\n",
            "gender          259\n",
            "dateOfBirth       0\n",
            "status            0\n",
            "externalCode    626\n",
            "isEnriched        0\n",
            "enrichedAt      496\n",
            "enrichedBy      496\n",
            "createdAt         0\n",
            "createdBy         0\n",
            "updatedAt         0\n",
            "updatedBy         0\n",
            "phone             0\n",
            "email             0\n",
            "dtype: int64\n"
          ]
        }
      ],
      "source": [
        "# Quantidade de valores nulos tem em cada coluna\n",
        "print('NULOS (contagem)')\n",
        "print('Order:\\n', order.isna().sum())\n",
        "print('\\nCampaign:\\n', campaign.isna().sum())\n",
        "print('\\nCampaignQueue:\\n', campaign_queue.isna().sum())\n",
        "print('\\nCustomer:\\n', customer.isna().sum())"
      ],
      "id": "4Sv5Rp8phTrF"
    },
    {
      "cell_type": "code",
      "source": [
        "# Porcentagem da quantidade de valores nulos em cada coluna\n",
        "print('NULOS (%)')\n",
        "print('Order (%):\\n', (order.isna().mean()*100).round(2))\n",
        "print('\\nCampaign (%):\\n', (campaign.isna().mean()*100).round(2))\n",
        "print('\\nCampaignQueue (%):\\n', (campaign_queue.isna().mean()*100).round(2))\n",
        "print('\\nCustomer (%):\\n', (customer.isna().mean()*100).round(2))"
      ],
      "metadata": {
        "colab": {
          "base_uri": "https://localhost:8080/"
        },
        "id": "QjyQEhXSjMEr",
        "outputId": "41f0abd4-3fed-47a9-b61e-400d4e2cd87d"
      },
      "id": "QjyQEhXSjMEr",
      "execution_count": null,
      "outputs": [
        {
          "output_type": "stream",
          "name": "stdout",
          "text": [
            "NULOS (%)\n",
            "Order (%):\n",
            " id                       0.00\n",
            "companyId                0.00\n",
            "containerId              0.00\n",
            "createdAt                0.00\n",
            "customer                 0.00\n",
            "displayId                0.00\n",
            "engineId                 0.00\n",
            "engineName               0.00\n",
            "engineType               0.00\n",
            "extraInfo               59.05\n",
            "integrated               0.00\n",
            "integrationId            0.00\n",
            "isTest                   0.00\n",
            "orderTiming              0.00\n",
            "orderType                0.00\n",
            "salesChannel             0.00\n",
            "scheduledAt             48.40\n",
            "status                   0.00\n",
            "preparationTime          0.00\n",
            "takeOutTimeInSeconds     0.00\n",
            "totalAmount              0.00\n",
            "updatedAt                0.00\n",
            "version                  0.00\n",
            "_createdAt               0.00\n",
            "dtype: float64\n",
            "\n",
            "Campaign (%):\n",
            " id              0.00\n",
            "segmentId       0.00\n",
            "templateId      0.00\n",
            "storeId         0.00\n",
            "name            0.00\n",
            "description    20.25\n",
            "badge          15.95\n",
            "type            0.00\n",
            "status          0.00\n",
            "isDefault       0.00\n",
            "createdAt       0.00\n",
            "createdBy       0.00\n",
            "updatedAt       0.00\n",
            "updatedBy       0.00\n",
            "_createdAt     61.20\n",
            "dtype: float64\n",
            "\n",
            "CampaignQueue (%):\n",
            " id                  0.00\n",
            "jobId               0.00\n",
            "campaignId          0.00\n",
            "storeId             0.00\n",
            "storeInstanceId     0.00\n",
            "customerId          0.00\n",
            " phoneNumber        0.00\n",
            "scheduledAt         0.00\n",
            "sendAt             34.24\n",
            "status              0.00\n",
            "message             0.00\n",
            "response           68.24\n",
            "createdAt           0.00\n",
            "createdBy           0.00\n",
            "updatedAt           0.00\n",
            "updatedBy           0.00\n",
            "_scheduledAt        0.00\n",
            "dtype: float64\n",
            "\n",
            "Customer (%):\n",
            " id               0.0\n",
            "name             0.0\n",
            "taxId            0.0\n",
            "gender          25.9\n",
            "dateOfBirth      0.0\n",
            "status           0.0\n",
            "externalCode    62.6\n",
            "isEnriched       0.0\n",
            "enrichedAt      49.6\n",
            "enrichedBy      49.6\n",
            "createdAt        0.0\n",
            "createdBy        0.0\n",
            "updatedAt        0.0\n",
            "updatedBy        0.0\n",
            "phone            0.0\n",
            "email            0.0\n",
            "dtype: float64\n"
          ]
        }
      ]
    },
    {
      "cell_type": "markdown",
      "metadata": {
        "id": "21FFQApMhTrF"
      },
      "source": [
        "### Duplicados (linhas repetidas)"
      ],
      "id": "21FFQApMhTrF"
    },
    {
      "cell_type": "code",
      "metadata": {
        "colab": {
          "base_uri": "https://localhost:8080/"
        },
        "id": "3BDpv7hPhTrF",
        "outputId": "0bfc2a6b-a806-4f7f-aea0-ba4190f85fd9"
      },
      "execution_count": null,
      "outputs": [
        {
          "output_type": "stream",
          "name": "stdout",
          "text": [
            "DUPLICADOS\n",
            "Order: 0\n",
            "Campaign: 0\n",
            "CampaignQueue: 0\n",
            "Customer: 0\n"
          ]
        }
      ],
      "source": [
        "# Verifica se há valores duplicados em cada base\n",
        "print('DUPLICADOS')\n",
        "print('Order:', order.duplicated().sum())\n",
        "print('Campaign:', campaign.duplicated().sum())\n",
        "print('CampaignQueue:', campaign_queue.duplicated().sum())\n",
        "print('Customer:', customer.duplicated().sum())"
      ],
      "id": "3BDpv7hPhTrF"
    },
    {
      "cell_type": "markdown",
      "metadata": {
        "id": "KS_OPvZWhTrF"
      },
      "source": [
        "### Categorias (valores únicos em colunas importantes)"
      ],
      "id": "KS_OPvZWhTrF"
    },
    {
      "cell_type": "code",
      "metadata": {
        "colab": {
          "base_uri": "https://localhost:8080/"
        },
        "id": "Oid1vnxvhTrG",
        "outputId": "62749ac8-9c60-433a-e53e-8452ee219dcd"
      },
      "execution_count": null,
      "outputs": [
        {
          "output_type": "stream",
          "name": "stdout",
          "text": [
            "Order (categorias)\n",
            "status: ['DISPATCHED' 'CONCLUDED' 'CANCELED' 'CONFIRMED' 'PENDING' 'PLACED']\n",
            "salesChannel: ['ANOTAAI' 'WHATSAPP' 'EPADOCA' '99FOOD' 'SITE' 'IFOOD' 'DELIVERYVIP']\n",
            "\n",
            "Campaign (categorias)\n",
            "status: [4 3 2 1]\n",
            "badge: ['winback' 'loyalty' 'migration' 'seasonal' 'consumption']\n",
            "\n",
            "CampaignQueue (categorias)\n",
            "status: [5 4 1 6 2 3]\n",
            "\n",
            "Customer (categorias)\n",
            "status: [1 2]\n",
            "gender: ['O' 'M' 'F']\n"
          ]
        }
      ],
      "source": [
        "# Verifica quais valores diferentes aparecem nas colunas\n",
        "def uniques_safe(df, col):\n",
        "    if col in df.columns:\n",
        "        print(f\"{col}:\", df[col].dropna().unique())\n",
        "    else:\n",
        "        print(f\"{col}: coluna não encontrada\")\n",
        "\n",
        "print('Order (categorias)')\n",
        "uniques_safe(order, 'status')\n",
        "uniques_safe(order, 'salesChannel')\n",
        "\n",
        "print('\\nCampaign (categorias)')\n",
        "uniques_safe(campaign, 'status')\n",
        "uniques_safe(campaign, 'badge')\n",
        "\n",
        "print('\\nCampaignQueue (categorias)')\n",
        "uniques_safe(campaign_queue, 'status')\n",
        "\n",
        "print('\\nCustomer (categorias)')\n",
        "uniques_safe(customer, 'status')\n",
        "uniques_safe(customer, 'gender')\n"
      ],
      "id": "Oid1vnxvhTrG"
    },
    {
      "cell_type": "markdown",
      "metadata": {
        "id": "8-K0KgR6hTrG"
      },
      "source": [
        "### Integridade entre tabelas (chaves batendo)"
      ],
      "id": "8-K0KgR6hTrG"
    },
    {
      "cell_type": "code",
      "metadata": {
        "colab": {
          "base_uri": "https://localhost:8080/"
        },
        "id": "FzEZeA1mhTrG",
        "outputId": "f64c81af-b4eb-4401-f220-0c6d63898ddd"
      },
      "execution_count": null,
      "outputs": [
        {
          "output_type": "stream",
          "name": "stdout",
          "text": [
            "CampaignQueue com campaignId inexistente: 0\n",
            "CampaignQueue com customerId inexistente: 0\n"
          ]
        }
      ],
      "source": [
        "# Verifica se os IDs da CampaignQueue existem também nas tabelas Campaign e Customer\n",
        "if 'campaignId' in campaign_queue.columns and 'id' in campaign.columns:\n",
        "    faltando_camp = ~campaign_queue['campaignId'].isin(campaign['id'])\n",
        "    print('CampaignQueue com campaignId inexistente:', faltando_camp.sum())\n",
        "else:\n",
        "    print('Não foi possível checar campaignId (coluna ausente)')\n",
        "\n",
        "if 'customerId' in campaign_queue.columns and 'id' in customer.columns:\n",
        "    faltando_cust = ~campaign_queue['customerId'].isin(customer['id'])\n",
        "    print('CampaignQueue com customerId inexistente:', faltando_cust.sum())\n",
        "else:\n",
        "    print('Não foi possível checar customerId (coluna ausente)')"
      ],
      "id": "FzEZeA1mhTrG"
    },
    {
      "cell_type": "markdown",
      "metadata": {
        "id": "d_jMnrIahTrG"
      },
      "source": [
        "### Checagem de IDs (unicidade)"
      ],
      "id": "d_jMnrIahTrG"
    },
    {
      "cell_type": "code",
      "metadata": {
        "colab": {
          "base_uri": "https://localhost:8080/"
        },
        "id": "N8tHrpXdhTrG",
        "outputId": "74679cd9-66d3-4f10-e64d-882a46f25007"
      },
      "execution_count": null,
      "outputs": [
        {
          "output_type": "stream",
          "name": "stdout",
          "text": [
            "Unicidade de IDs\n",
            "id: 2000 únicos de 2000 linhas (duplicados: 0)\n",
            "id: 2000 únicos de 2000 linhas (duplicados: 0)\n",
            "id: 5000 únicos de 5000 linhas (duplicados: 0)\n",
            "id: 1000 únicos de 1000 linhas (duplicados: 0)\n"
          ]
        }
      ],
      "source": [
        "# Verifica se os IDs da CampaignQueue existem também nas tabelas Order, Campaign, CampaignQueue e Custumor\n",
        "def check_unique(df, col):\n",
        "    if col in df.columns:\n",
        "        nunique = df[col].nunique()\n",
        "        total = len(df)\n",
        "        print(f\"{col}: {nunique} únicos de {total} linhas (duplicados: {total - nunique})\")\n",
        "    else:\n",
        "        print(f\"{col}: coluna não encontrada\")\n",
        "\n",
        "print('Unicidade de IDs')\n",
        "check_unique(order, 'id')\n",
        "check_unique(campaign, 'id')\n",
        "check_unique(campaign_queue, 'id')\n",
        "check_unique(customer, 'id')"
      ],
      "id": "N8tHrpXdhTrG"
    }
  ],
  "metadata": {
    "kernelspec": {
      "display_name": "Python 3",
      "language": "python",
      "name": "python3"
    },
    "language_info": {
      "name": "python",
      "version": "3.x"
    },
    "colab": {
      "provenance": []
    }
  },
  "nbformat": 4,
  "nbformat_minor": 5
}